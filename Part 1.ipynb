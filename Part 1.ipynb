{
 "cells": [
  {
   "cell_type": "markdown",
   "id": "80d2bb33-7d44-4078-a92d-9a86648d93eb",
   "metadata": {},
   "source": [
    "## 1. Logistic Regression: Experiment"
   ]
  },
  {
   "cell_type": "code",
   "execution_count": 1,
   "id": "a00d6e29-6f7c-481c-882c-bbe5a77013bd",
   "metadata": {},
   "outputs": [],
   "source": [
    "import numpy as np\n",
    "import pandas as pd\n",
    "from sklearn.model_selection import train_test_split\n",
    "from sklearn.metrics import accuracy_score\n",
    "import matplotlib.pyplot as plt"
   ]
  },
  {
   "cell_type": "code",
   "execution_count": 2,
   "id": "20d1b3ad-bad4-4f67-966c-19661e2fea0d",
   "metadata": {},
   "outputs": [
    {
     "data": {
      "text/plain": [
       "((4601, 58), (4601,))"
      ]
     },
     "execution_count": 2,
     "metadata": {},
     "output_type": "execute_result"
    }
   ],
   "source": [
    "# Reading data\n",
    "data = pd.read_csv(\"spam_data.txt\", delim_whitespace=True, header=None).values.astype('float64')\n",
    "labels = pd.read_csv(\"spam_labels.txt\", delim_whitespace=True, header=None).values.astype('int').reshape(-1) \n",
    "\n",
    "# Adding column of 1. for bias\n",
    "bias_column = np.ones((len(data),1), 'float')\n",
    "data = np.hstack((data, bias_column))\n",
    "\n",
    "labels = labels*2-1  # Convert to +1/-1 encoding\n",
    "data.shape, labels.shape"
   ]
  },
  {
   "cell_type": "code",
   "execution_count": 3,
   "id": "3147be04-b186-4e50-95da-cc410e2beae0",
   "metadata": {},
   "outputs": [],
   "source": [
    "# These are vectorized implementations\n",
    "def sigmoid(t):\n",
    "    return 1/(1+np.exp(-t))\n",
    "\n",
    "def loss(y, p):\n",
    "    return np.log(1+np.exp(-y*p)).mean()\n",
    "\n",
    "def prediction(x,w):\n",
    "    return sigmoid(x @ w)\n",
    "\n",
    "def gradient(x,w,y):\n",
    "    a = y*sigmoid(-y * (x@w))\n",
    "    return -(x.T @ a)/data.shape[0]"
   ]
  },
  {
   "cell_type": "code",
   "execution_count": 4,
   "id": "e53ac8c3-a29c-4e85-8cb9-c60fc415a1fc",
   "metadata": {},
   "outputs": [],
   "source": [
    "def logistic_train(data, labels, epsilon=1e-5, maxiter=1000):\n",
    "    weights = np.zeros((data.shape[1],), 'float')\n",
    "    learning_rate = .1\n",
    "    last_pred = None\n",
    "\n",
    "    for i in range(maxiter):\n",
    "        p = prediction(data, weights)\n",
    "        \n",
    "        if last_pred is not None and np.abs(p-last_pred).mean()<epsilon:\n",
    "            break\n",
    "        else:\n",
    "            last_pred = p\n",
    "\n",
    "        g = gradient(data, weights, labels)\n",
    "        weights = weights - learning_rate * g\n",
    "        \n",
    "    return weights"
   ]
  },
  {
   "cell_type": "code",
   "execution_count": 5,
   "id": "4bae7c67-9d3e-4710-95d8-924b01ffb16a",
   "metadata": {
    "tags": []
   },
   "outputs": [
    {
     "name": "stdout",
     "output_type": "stream",
     "text": [
      "n=200, acc=0.9146\n",
      "n=500, acc=0.9196\n",
      "n=800, acc=0.9204\n",
      "n=1000, acc=0.9220\n",
      "n=1500, acc=0.9293\n",
      "n=2000, acc=0.9300\n"
     ]
    }
   ],
   "source": [
    "train_data, test_data, train_labels, test_labels = train_test_split(data, labels, train_size=2000, shuffle=False)\n",
    "\n",
    "ns = [200, 500, 800, 1000, 1500, 2000]\n",
    "accs = []\n",
    "\n",
    "for n in ns:\n",
    "    weights = logistic_train(train_data[:n], train_labels[:n])\n",
    "    \n",
    "    predictions = prediction(test_data, weights)\n",
    "    predictions[predictions>=.5] = 1\n",
    "    predictions[predictions<.5] = -1\n",
    "    \n",
    "    acc = accuracy_score(test_labels, predictions)\n",
    "    accs.append(acc)\n",
    "    print(f\"{n=}, {acc=:.4f}\")"
   ]
  },
  {
   "cell_type": "code",
   "execution_count": 6,
   "id": "0e4b927b-bd84-4866-b0ae-7e01c0a628b8",
   "metadata": {},
   "outputs": [
    {
     "data": {
      "image/png": "[encoded data removed]",
      "text/plain": [
       "<Figure size 432x288 with 1 Axes>"
      ]
     },
     "metadata": {
      "needs_background": "light"
     },
     "output_type": "display_data"
    }
   ],
   "source": [
    "plt.title(\"Logistic Regression Performance\")\n",
    "plt.xlabel(\"Train Data Size\")\n",
    "plt.ylabel(\"Accuracy\")\n",
    "plt.plot(ns, accs, '-o');\n",
    "plt.savefig(\"n_vs_acc.png\");"
   ]
  },
  {
   "cell_type": "code",
   "execution_count": null,
   "id": "82cce177-97f2-420e-ae19-e4174517440b",
   "metadata": {},
   "outputs": [],
   "source": []
  },
  {
   "cell_type": "code",
   "execution_count": 7,
   "id": "3335ebda-0095-42e8-9ae9-314e08bcb1f6",
   "metadata": {},
   "outputs": [
    {
     "data": {
      "text/plain": [
       "0.9384851980007689"
      ]
     },
     "execution_count": 7,
     "metadata": {},
     "output_type": "execute_result"
    }
   ],
   "source": [
    "from sklearn.linear_model import LogisticRegression\n",
    "m = LogisticRegression().fit(train_data, train_labels)\n",
    "accuracy_score(test_labels, m.predict(test_data))"
   ]
  },
  {
   "cell_type": "code",
   "execution_count": null,
   "id": "9bc63092-2e52-454f-846d-02eb27dc7ba0",
   "metadata": {},
   "outputs": [],
   "source": []
  }
 ],
 "metadata": {
  "kernelspec": {
   "display_name": "p1",
   "language": "python",
   "name": "p1"
  },
  "language_info": {
   "codemirror_mode": {
    "name": "ipython",
    "version": 3
   },
   "file_extension": ".py",
   "mimetype": "text/x-python",
   "name": "python",
   "nbconvert_exporter": "python",
   "pygments_lexer": "ipython3",
   "version": "3.9.7"
  }
 },
 "nbformat": 4,
 "nbformat_minor": 5
}
